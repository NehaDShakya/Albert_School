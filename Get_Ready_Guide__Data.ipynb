{
  "cells": [
    {
      "cell_type": "markdown",
      "metadata": {
        "id": "view-in-github",
        "colab_type": "text"
      },
      "source": [
        "<a href=\"https://colab.research.google.com/github/NehaDShakya/Albert_School/blob/main/Get_Ready_Guide__Data.ipynb\" target=\"_parent\"><img src=\"https://colab.research.google.com/assets/colab-badge.svg\" alt=\"Open In Colab\"/></a>"
      ]
    },
    {
      "cell_type": "markdown",
      "source": [
        "![logo-as.png](data:image/png;base64,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)"
      ],
      "metadata": {
        "id": "xMzR_E0vq_t6"
      },
      "id": "xMzR_E0vq_t6"
    },
    {
      "cell_type": "markdown",
      "id": "74686663",
      "metadata": {
        "id": "74686663"
      },
      "source": [
        "\n",
        "<hr color=\"black\">\n",
        "\n",
        "<center><h1>Get Ready Guide</h1></center>\n",
        "\n",
        "<hr color=\"black\">"
      ]
    },
    {
      "cell_type": "markdown",
      "id": "b451e8e6",
      "metadata": {
        "id": "b451e8e6"
      },
      "source": [
        "<section>\n",
        "    <center>\n",
        "    <h2>How to use this guide</h2>\n",
        "    <p>This document provides a guide to help with the important task of getting ready for September.</p>\n",
        "    </center>\n",
        "</section>\n",
        "\n",
        "Solving cases with ChatGPT and GitHub Copilot may seem easy, but learning to do it on your own is crucial for complex data. Gain confidence and solve what you can without artificial help, master the process!\n",
        "\n",
        "This guide consists of four parts:\n",
        "\n",
        "1. [Objectives](#Objectives): Make sure you are ready for September.\n",
        "2. [Learning](#Learning): Various ressources to get you up to speed.\n",
        "3. [Testing](#Testing): A short series of exercises to asses your level.\n",
        "3. [Project](#Project): A project you have to work on before bootcamp, with two [deliverables](#Task).\n",
        "4. [Practice](#Practice): There is no such thing as too much practice."
      ]
    },
    {
      "cell_type": "markdown",
      "id": "977b5025",
      "metadata": {
        "id": "977b5025"
      },
      "source": [
        "<a name=\"Objectives\"></a>\n",
        "\n",
        "# Objectives\n"
      ]
    },
    {
      "cell_type": "markdown",
      "source": [
        "## What you will learn\n",
        "\n",
        "This section describes the learning objectives of the document.\n",
        "\n",
        "Note that some parts are denoted **ExtraMile**, meaning that those are not strict requirements to be ready, but having an overview of them will help you get the most out of the bootcamp."
      ],
      "metadata": {
        "id": "4nvz5qoYXmNz"
      },
      "id": "4nvz5qoYXmNz"
    },
    {
      "cell_type": "markdown",
      "source": [
        "1. [Manipulating data with Sheets](#P1)\n",
        "* Create a table and implement standard functions : FILTER, SUM, SUMIF, SUMPRODUCT, FILTER, ...\n",
        "* Design a Pivot Table\n",
        "* Implement advanced functions : VLOOKUP / HLOOKUP, INDEX MATCH functions, ...\n",
        "* Be familiar wit standard data visualisation\n",
        "\n",
        "2. [General Python programming](#P2)\n",
        "* Manipulate standard Python objects : int, char, list, dictionary, ...\n",
        "* Create for and while loops\n",
        "* Write standard user-defined functions\n",
        "\n",
        "3. [[ExtraMile] Descriptive and exploratory analysis with Pandas library](#P3)\n",
        "* Reading, writing and exploring an unknow dataset\n",
        "\n",
        "4. [[ExtraMile] SQL](#P4)\n",
        "* Working with databases, a necessary step to scale your data projects and pipelines."
      ],
      "metadata": {
        "id": "Pn8y_sPxX4hI"
      },
      "id": "Pn8y_sPxX4hI"
    },
    {
      "cell_type": "markdown",
      "id": "c41bd300",
      "metadata": {
        "id": "c41bd300"
      },
      "source": [
        "<a name=\"Learning\"></a>\n",
        "# Learning\n",
        "\n",
        "It's important that you master the first two topics before the bootcamp !\n",
        "\n",
        "The following parts are extramile, study them to be on top of everything and get the most value out of your time on campus."
      ]
    },
    {
      "cell_type": "markdown",
      "source": [
        "<a name=\"P1\"></a>\n",
        "## Manipulating data with Sheets\n",
        "\n",
        "To learn Google Sheets, go to [this folder](https://drive.google.com/drive/folders/1AQDTfm7ix5GHly29d013YE7rSqXso3p0?usp=sharing) !\n",
        "\n",
        "Watch the videos and use the accompanying documents to practice the operations explained in the tutorials."
      ],
      "metadata": {
        "id": "fRtDQSPkYZkq"
      },
      "id": "fRtDQSPkYZkq"
    },
    {
      "cell_type": "markdown",
      "source": [
        "<a name=\"P2\"></a>\n",
        "## General Python programming\n",
        "\n",
        "To learn python basics, you may rely on <a href=\"https://www.youtube.com/playlist?list=PLTjRvDozrdlxj5wgH4qkvwSOdHLOCx10f\">this</a> excellent free tutorial.\n",
        "\n",
        "<h3>Written ressources</h3>\n",
        "\n",
        "These Kaggle courses provide step-by-step exercises that are concise and perfect for you if you're seeking a quick-start or a refresher on Python fundamentals.\n",
        "\n",
        "1. https://www.kaggle.com/learn/intro-to-programming\n",
        "2. https://www.kaggle.com/learn/python\n"
      ],
      "metadata": {
        "id": "M7T7LUKvYxsY"
      },
      "id": "M7T7LUKvYxsY"
    },
    {
      "cell_type": "markdown",
      "source": [
        "<a name=\"P3\"></a>\n",
        "## [ExtraMile] Descriptive and exploratory analysis with Pandas library\n",
        "\n",
        "More Kaggle ressources for you to learn everything you need to know :)\n",
        "\n",
        "1. https://www.kaggle.com/learn/pandas\n",
        "\n",
        "<h3>Python - ULTIMATE CHEATSHEET</h3>\n",
        "\n",
        "The cheatsheet is overwhelming when you begin, but wait till the end of the bootcamp, and it will all make sense !\n",
        "\n",
        "https://www.kaggle.com/discussions/getting-started/407595\n"
      ],
      "metadata": {
        "id": "gUVTtSXmY1AH"
      },
      "id": "gUVTtSXmY1AH"
    },
    {
      "cell_type": "markdown",
      "source": [
        "<a name=\"P4\"></a>\n",
        "## [ExtraMile] SQL\n",
        "\n",
        "SQL stands for Structured Query Language. It is a programming language designed for managing and manipulating relational databases.\n",
        "\n",
        "During the course **Hands on SQL databases**, you will use MySQL: MySQL is an open-source relational database management system (RDBMS) that is widely used for managing and storing structured data.\n",
        "\n",
        "If you understand and master the concepts described on <a href=\"https://drive.google.com/file/d/17z-qlGTbrIZpJTJQhwSldIIQSPZZSp7u/view?usp=drive_link\">this cheat sheet</a>, you are more than ready !\n",
        "\n",
        "You may discover key concepts here:\n",
        "\n",
        "1. <a href=\"https://www.youtube.com/watch?v=7S_tz1z_5bA\">MySQL Tutorial</a>\n",
        "2. https://www.kaggle.com/learn/intro-to-sql\n",
        "3. https://www.kaggle.com/learn/advanced-sql"
      ],
      "metadata": {
        "id": "LeD689vNQCtC"
      },
      "id": "LeD689vNQCtC"
    },
    {
      "cell_type": "markdown",
      "id": "47b053e9",
      "metadata": {
        "id": "47b053e9"
      },
      "source": [
        "<a name=\"Testing\"></a>\n",
        "\n",
        "# Testing\n",
        "\n"
      ]
    },
    {
      "cell_type": "markdown",
      "source": [
        "## Set up"
      ],
      "metadata": {
        "id": "HQp0L5TLSsYc"
      },
      "id": "HQp0L5TLSsYc"
    },
    {
      "cell_type": "markdown",
      "source": [
        "These steps are required for the checks to work properly. For detailed instructions, check [the video](https://drive.google.com/file/d/1Brzr-TMprPNnzqdGWqk4_xC3-CVyE12q/view?usp=sharing) !"
      ],
      "metadata": {
        "id": "9DjRC6ZYpIr9"
      },
      "id": "9DjRC6ZYpIr9"
    },
    {
      "cell_type": "code",
      "source": [
        "# Click on \"play\" next to this cell\n",
        "from google.colab import files"
      ],
      "metadata": {
        "id": "ydC_r-UcjgTM"
      },
      "execution_count": null,
      "outputs": [],
      "id": "ydC_r-UcjgTM"
    },
    {
      "cell_type": "code",
      "source": [
        "# Great !\n",
        "# Now, upload the file learntools.zip from the folder shared with you by Albert School\n",
        "\n",
        "files.upload()"
      ],
      "metadata": {
        "id": "ycmsVXhJlCLf"
      },
      "execution_count": null,
      "outputs": [],
      "id": "ycmsVXhJlCLf"
    },
    {
      "cell_type": "code",
      "source": [
        "# Run this cell !\n",
        "\n",
        "!unzip learntools.zip"
      ],
      "metadata": {
        "id": "9uaaGu-WjnEC"
      },
      "execution_count": null,
      "outputs": [],
      "id": "9uaaGu-WjnEC"
    },
    {
      "cell_type": "code",
      "source": [
        "from learntools.core import binder;\n",
        "\n",
        "binder.bind(globals())\n",
        "\n",
        "from learntools.check import *"
      ],
      "metadata": {
        "id": "P8FdsQXITMp1"
      },
      "execution_count": null,
      "outputs": [],
      "id": "P8FdsQXITMp1"
    },
    {
      "cell_type": "code",
      "source": [
        "# If everything works fine, you will see a success message appear !\n",
        "\n",
        "print(\"Hello, Albert !\")\n",
        "\n",
        "q1.check()"
      ],
      "metadata": {
        "id": "4gEJM5GGiuIi",
        "colab": {
          "base_uri": "https://localhost:8080/",
          "height": 64
        },
        "outputId": "4436e1fa-2e3f-494a-b354-c15f23f8d524",
        "collapsed": true
      },
      "execution_count": null,
      "outputs": [
        {
          "output_type": "stream",
          "name": "stdout",
          "text": [
            "Hello, Albert !\n"
          ]
        },
        {
          "output_type": "display_data",
          "data": {
            "text/plain": [
              "<IPython.core.display.Javascript object>"
            ],
            "application/javascript": [
              "parent.postMessage({\"jupyterEvent\": \"custom.exercise_interaction\", \"data\": {\"outcomeType\": 1, \"valueTowardsCompletion\": 0.09090909090909091, \"interactionType\": 1, \"questionType\": 2, \"questionId\": \"1_RunHelloWorld\", \"learnToolsVersion\": \"0.3.4\", \"failureMessage\": \"\", \"exceptionClass\": \"\", \"trace\": \"\"}}, \"*\")"
            ]
          },
          "metadata": {}
        },
        {
          "output_type": "display_data",
          "data": {
            "text/plain": [
              "If you see 'Hello, Albert!' above, You have successfully printed a message, and you're ready to move on to the next parts of this notbook."
            ],
            "text/markdown": "<span style=\"color:#33cc33\">If you see 'Hello, Albert!' above, You have successfully printed a message, and you're ready to move on to the next parts of this notbook.</span>"
          },
          "metadata": {}
        }
      ],
      "id": "4gEJM5GGiuIi"
    },
    {
      "cell_type": "markdown",
      "source": [
        "## Manipulating data with Google Sheets\n",
        "\n",
        "Did you successfully complete the exercises in the videos ?\n",
        "It should be enough to tackle the project in the next part !"
      ],
      "metadata": {
        "id": "687XkhxEZCjx"
      },
      "id": "687XkhxEZCjx"
    },
    {
      "cell_type": "markdown",
      "source": [
        "## General Python programming\n",
        "\n",
        "This section consists of **4 questions** on general Python programming.\n",
        "\n",
        "We expect you to solve these 4 questions in less than 45 minutes.\n",
        "\n",
        "**Topics.**\n",
        "\n",
        "* Manipulation of lists.\n",
        "\n",
        "* Manipulation of dictionaries.\n",
        "\n",
        "* Manipulation of strings."
      ],
      "metadata": {
        "id": "j0SlINQyZwb7"
      },
      "id": "j0SlINQyZwb7"
    },
    {
      "cell_type": "markdown",
      "metadata": {
        "id": "651d354b"
      },
      "source": [
        "<hr color=\"black\" />\n",
        "\n",
        "**Question 1.**\n",
        "\n",
        "<hr color=\"black\" />\n",
        "\n",
        "Write a function ``element_at`` that **takes in**:\n",
        "\n",
        "* a *list* ``l`` of integer numbers;\n",
        "\n",
        "* an *integer* ``pos``.\n",
        "\n",
        "The function **returns**:\n",
        "\n",
        "* the element of the list that is ``pos`` positions away from the last element of the list.\n",
        "\n",
        "**Special cases**. The function will return ``None`` if **at least one** of the following cases arises:\n",
        "\n",
        "* ``pos`` $\\geq$ ``len(l)``.\n",
        "\n",
        "* The list ``l`` is empty.\n",
        "\n",
        "<br>\n",
        "\n",
        "<hr color=\"black\" />\n",
        "\n",
        "**Examples.**\n",
        "\n",
        "<hr color=\"black\" />\n",
        "\n",
        "Let ``l`` be the list ``[1, 5, 9, 4, 10, 6, 2]``.\n",
        "\n",
        "* ``element_at(l, 0)`` must return 2 (the last element in the list).\n",
        "\n",
        "* ``element_at(l, 1)`` must return 6 (the element immediately before the last one in the list).\n",
        "\n",
        "* ``element_at(l, 6)`` must return 1 (the first element in the list).\n",
        "\n",
        "* ``element_at(1, 7)`` must return ``None``."
      ],
      "id": "651d354b"
    },
    {
      "cell_type": "code",
      "execution_count": null,
      "metadata": {
        "id": "a8a88411",
        "colab": {
          "base_uri": "https://localhost:8080/",
          "height": 47
        },
        "collapsed": true,
        "outputId": "e48f9d93-7365-44d0-843c-6b4ed023dbd3"
      },
      "outputs": [
        {
          "output_type": "display_data",
          "data": {
            "text/plain": [
              "<IPython.core.display.Javascript object>"
            ],
            "application/javascript": [
              "parent.postMessage({\"jupyterEvent\": \"custom.exercise_interaction\", \"data\": {\"outcomeType\": 4, \"interactionType\": 1, \"questionType\": 2, \"questionId\": \"2_ElementAtProblem\", \"learnToolsVersion\": \"0.3.4\", \"valueTowardsCompletion\": 0.0, \"failureMessage\": \"\", \"exceptionClass\": \"\", \"trace\": \"\"}}, \"*\")"
            ]
          },
          "metadata": {}
        },
        {
          "output_type": "display_data",
          "data": {
            "text/plain": [
              "Check: When you've updated the starter code, `check()` will tell you whether your code is correct. "
            ],
            "text/markdown": "<span style=\"color:#ccaa33\">Check:</span> When you've updated the starter code, `check()` will tell you whether your code is correct. "
          },
          "metadata": {}
        }
      ],
      "source": [
        "# WRITE YOUR CODE HERE\n",
        "\n",
        "def element_at(l, n):\n",
        "    return 3\n",
        "\n",
        "\n",
        "\n",
        "# Check whether the code is correct\n",
        "q2.check()"
      ],
      "id": "a8a88411"
    },
    {
      "cell_type": "markdown",
      "metadata": {
        "id": "81470af1"
      },
      "source": [
        "<hr color=\"black\" />\n",
        "\n",
        "**Question 2.**\n",
        "\n",
        "<hr color=\"black\" />\n",
        "\n",
        "Write a function ``prices_ttc`` that **takes in**:\n",
        "\n",
        "* a list ``prices_ht`` of *real* numbers. Each item of the list represents the price of a product before tax.\n",
        "\n",
        "* an *integer* ``vat_rate`` between 0 and 100. This value indicates, as its name implies, the VAT (TVA in French) rate.\n",
        "\n",
        "The function **returns**:\n",
        "\n",
        "* a new list that contains the price of each product including the VAT.\n",
        "\n",
        "**Special case.** If ``vat_rate`` $\\lt$ 0 or ``vat_rate`` $\\gt$ 100, the function **must raise** a ``ValueError`` exception.\n",
        "\n",
        "<br>\n",
        "\n",
        "<hr color=\"black\" />\n",
        "\n",
        "**Example.**\n",
        "\n",
        "<hr color=\"black\" />\n",
        "\n",
        "* ``prices_ttc([85, 30, 50, 70, 110], 20)`` returns the list ``[102, 36, 60, 84, 132]``."
      ],
      "id": "81470af1"
    },
    {
      "cell_type": "code",
      "execution_count": null,
      "metadata": {
        "id": "7c7e7a7a",
        "outputId": "130c27c1-d983-4241-8a80-49af202f8339",
        "colab": {
          "base_uri": "https://localhost:8080/",
          "height": 204
        }
      },
      "outputs": [
        {
          "output_type": "error",
          "ename": "NameError",
          "evalue": "ignored",
          "traceback": [
            "\u001b[0;31m---------------------------------------------------------------------------\u001b[0m",
            "\u001b[0;31mNameError\u001b[0m                                 Traceback (most recent call last)",
            "\u001b[0;32m<ipython-input-1-f6693d3a5279>\u001b[0m in \u001b[0;36m<cell line: 8>\u001b[0;34m()\u001b[0m\n\u001b[1;32m      6\u001b[0m \u001b[0;34m\u001b[0m\u001b[0m\n\u001b[1;32m      7\u001b[0m \u001b[0;31m# Check whether the code is correct\u001b[0m\u001b[0;34m\u001b[0m\u001b[0;34m\u001b[0m\u001b[0m\n\u001b[0;32m----> 8\u001b[0;31m \u001b[0mq3\u001b[0m\u001b[0;34m.\u001b[0m\u001b[0mcheck\u001b[0m\u001b[0;34m(\u001b[0m\u001b[0;34m)\u001b[0m\u001b[0;34m\u001b[0m\u001b[0;34m\u001b[0m\u001b[0m\n\u001b[0m",
            "\u001b[0;31mNameError\u001b[0m: name 'q3' is not defined"
          ]
        }
      ],
      "source": [
        "# WRITE YOUR CODE HERE\n",
        "def prices_ttc():\n",
        "    return\n",
        "\n",
        "\n",
        "\n",
        "# Check whether the code is correct\n",
        "q3.check()"
      ],
      "id": "7c7e7a7a"
    },
    {
      "cell_type": "markdown",
      "metadata": {
        "id": "459febb9"
      },
      "source": [
        "<hr color=\"black\" />\n",
        "\n",
        "**Question 3.**\n",
        "\n",
        "<hr color=\"black\" />\n",
        "\n",
        "Write a function ``dictdiff`` that **takes in** two dictionaries ``d1`` and ``d2``; both dictionaries can have keys and values of any type.\n",
        "\n",
        "The function **returns** a new dictionary that expresses the difference between ``d1`` and ``d2``.\n",
        "\n",
        "<u>More specifically</u>:\n",
        "\n",
        "* If ``d1`` and ``d2`` have the same content, the function returns an empty dictionary.\n",
        "\n",
        "* Let ``k:v1`` be an item of ``d1``, and ``k:v2`` be an item of ``d2``, such that ``v1`` $\\neq$ ``v2`` (both items have the same key ``k``); the returned dictionary will contain the item ``k:(v1, v2)``.\n",
        "\n",
        "* Let ``k:v1`` be an item of ``d1``, such that ``k`` is not a key of ``d2`` ; the returned dictionary will contain the item ``k:(v1, None)``.\n",
        "\n",
        "* Let ``k:v2`` be an item of ``d2``, such that ``k`` is not a key of ``d1`` ; the returned dictionary will contain the item ``k:(None, v2)``.\n",
        "\n",
        "<br>\n",
        "\n",
        "<hr color=\"black\" />\n",
        "\n",
        "**Examples.**\n",
        "\n",
        "<hr color=\"black\" />\n",
        "\n",
        "Consider the three following dictionaries:\n",
        "\n",
        "* ``d1 = {'a': 1, 'b': 2, 'c': 3}``\n",
        "\n",
        "* ``d2 = {'a': 1, 'b': 2, 'c': 4}``\n",
        "\n",
        "* ``d3 = {'a': 1, 'b': 2, 'd': 3}``\n",
        "\n",
        "* ``d4 = {'a': 1, 'b': 2, 'c': 3}``\n",
        "\n",
        "We have the following results:\n",
        "\n",
        "* ``dictdiff(d1, d4)`` returns an empty dictionary ``{}``, as ``d1`` and ``d4`` have the same content.\n",
        "\n",
        "* ``dictdiff(d1, d2)`` returns ``{'c': (3, 4)}``, because ``d1`` contains ``'c':3`` and ``d2`` contains ``'c':4`` (the other items are the same).\n",
        "\n",
        "* ``dictdiff(d2, d3)`` returns ``{'c': (4, None), 'd': (None, 3)}``, because ``d2`` contains ``'c': 4`` and ``d3`` does not have any key ``'c'``; similarly, ``d3`` contains ``'d': 3``, and ``d2`` does not have any key ``'d'``.\n",
        "\n",
        "👉 ``dictdiff`` is not commutative."
      ],
      "id": "459febb9"
    },
    {
      "cell_type": "code",
      "execution_count": null,
      "metadata": {
        "id": "5b52ef35"
      },
      "outputs": [],
      "source": [
        "# WRITE YOUR CODE HERE\n",
        "\n",
        "\n",
        "\n",
        "q4.check()"
      ],
      "id": "5b52ef35"
    },
    {
      "cell_type": "markdown",
      "metadata": {
        "id": "861cf799"
      },
      "source": [
        "<hr color=\"black\" />\n",
        "\n",
        "**Question 4.**\n",
        "\n",
        "<hr color=\"black\" />\n",
        "\n",
        "You receive an encrypted message from a friend of yours.\n",
        "You know that your friend used the Caesar cipher, that consists in replacing each letter of the original message by a letter that is $k$ positions down the alphabet.\n",
        "\n",
        "👉 We consider the English alphabet (a b c d e f g h i j k l m n o p q r s t u v w x y z). We consider both **upper** and **lower case** letters.\n",
        "\n",
        "<br>\n",
        "\n",
        "<hr color=\"black\" />\n",
        "\n",
        "**Example.** When using a Caesar cipher with $k$=3, the letter ``a`` would be replaced by the letter ``d``, the letter ``b`` would be replaced by the letter ``e`` and so on.\n",
        "\n",
        "👉 The list of the alphabet letters is a circular one: the letter following ``z`` is ``a``.\n",
        "Therefore, with $k$=3, the letter ``z`` would be replaced by the letter ``c``.\n",
        "\n",
        "<hr color=\"black\" />\n",
        "\n",
        "\n",
        "<br>\n",
        "\n",
        "\n",
        "Write a function ``decipher_message`` that **takes in**:\n",
        "\n",
        "* a string ``message`` that contains the encrypted message.\n",
        "\n",
        "* the integer ``k`` that indicates the number of positions that have been counted to replace a letter while encrypting the message.\n",
        "\n",
        "The function **returns** the decrypted message.\n",
        "\n",
        "<br>\n",
        "\n",
        "<hr color=\"black\" />\n",
        "\n",
        "**Example.**\n",
        "\n",
        "* ``decipher_message('Zpv bsf epjoh hsfbu', 1)`` returns ``You are doing great``.\n",
        "\n",
        "<hr color=\"black\" />\n"
      ],
      "id": "861cf799"
    },
    {
      "cell_type": "code",
      "execution_count": null,
      "metadata": {
        "id": "9a2ebe38"
      },
      "outputs": [],
      "source": [
        "# WRITE YOUR CODE HERE\n",
        "\n",
        "\n",
        "\n",
        "\n",
        "# Check whether the code is correct\n",
        "q5.check()"
      ],
      "id": "9a2ebe38"
    },
    {
      "cell_type": "markdown",
      "source": [
        "Done already ? Check the practice section for more !"
      ],
      "metadata": {
        "id": "ir9Mfi29uqPX"
      },
      "id": "ir9Mfi29uqPX"
    },
    {
      "cell_type": "markdown",
      "source": [
        "## [ExtraMile] Descriptive and exploratory analysis with Pandas library\n",
        "\n"
      ],
      "metadata": {
        "id": "7CUgNOIjZxCb"
      },
      "id": "7CUgNOIjZxCb"
    },
    {
      "cell_type": "markdown",
      "metadata": {
        "id": "726c9394"
      },
      "source": [
        "<hr color='black' />\n",
        "\n",
        "**Dataset.**\n",
        "\n",
        "<hr color='black' />\n",
        "\n",
        "We consider a dataset of shows (movies, TV series, ...).\n",
        "\n",
        "In the following questions we consider file ``./data/imdb_titles_small.csv``.\n",
        "\n",
        "The table has the following columns:\n",
        "\n",
        "* ``tconst``. Unique identifier of the show.\n",
        "\n",
        "* ``titleType``. The type of the show.\n",
        "\n",
        "* ``primaryTitle``. The title by which the show is known.\n",
        "\n",
        "* ``originalTitle``. The original title of the show.\n",
        "\n",
        "* ``iAdult``. Whether the show is only for adults (1) or not (0).\n",
        "\n",
        "* ``startYear``. For a movie, this is the release year. For a series, this is the year of the first season.\n",
        "\n",
        "* ``endYear``. The year of the last season of a series. For movies, or any other show, the column contains the value ``\\N``.\n",
        "\n",
        "* ``runtimeMinutes``. Duration of the show.\n",
        "\n",
        "* ``genres``. Genres of the show."
      ],
      "id": "726c9394"
    },
    {
      "cell_type": "markdown",
      "metadata": {
        "id": "c2ebc104"
      },
      "source": [
        "<hr color=\"black\" />\n",
        "\n",
        "**Question 5.**\n",
        "\n",
        "<hr color=\"black\" />\n",
        "\n",
        "Complete the following code to read the given file into a Pandas DataFrame called ``shows_df``.\n"
      ],
      "id": "c2ebc104"
    },
    {
      "cell_type": "code",
      "execution_count": null,
      "metadata": {
        "id": "c79b1b6d"
      },
      "outputs": [],
      "source": [
        "# WRITE YOUR CODE HERE\n",
        "\n",
        "\n",
        "\n",
        "\n",
        "\n",
        "\n",
        "\n",
        "# Check whether the code is correct\n",
        "q6.check()"
      ],
      "id": "c79b1b6d"
    },
    {
      "cell_type": "markdown",
      "metadata": {
        "id": "32d283d9"
      },
      "source": [
        "<hr color=\"black\" />\n",
        "\n",
        "**Question 6.**\n",
        "\n",
        "<hr color=\"black\" />\n",
        "\n",
        "Complete the following code to assign to variable ``show_types`` the *list* of all show types  (values in the column ``titleType``) with <u>no repetitions</u>."
      ],
      "id": "32d283d9"
    },
    {
      "cell_type": "code",
      "execution_count": null,
      "metadata": {
        "id": "e86602ab"
      },
      "outputs": [],
      "source": [
        "# WRITE YOUR CODE HERE\n",
        "\n",
        "\n",
        "\n",
        "\n",
        "# Check whether the code is correct\n",
        "q7.check()"
      ],
      "id": "e86602ab"
    },
    {
      "cell_type": "markdown",
      "metadata": {
        "id": "d20b5d6b"
      },
      "source": [
        "<hr color=\"black\" />\n",
        "\n",
        "**Question 7.**\n",
        "\n",
        "<hr color=\"black\" />\n",
        "\n",
        "Complete the following code so that:\n",
        "\n",
        "* **Question 7.1** Variable ``shows_1939`` contains the *list* of the identifiers (column ``tconst``) of all shows released in 1939 (column ``startYear``).\n",
        "\n",
        "* **Question 7.2** Variable ``shows_wwii`` contains the *list* of the identifiers of all shows released during the Second World War (WWII, 1939-1945).\n",
        "\n",
        "* **Question 7.3** Variable ``movies_wwii`` contains the *list* of the identifiers of all shows of type ``movie`` released during the Second World War."
      ],
      "id": "d20b5d6b"
    },
    {
      "cell_type": "code",
      "execution_count": null,
      "metadata": {
        "id": "39ba042b"
      },
      "outputs": [],
      "source": [
        "# WRITE YOUR CODE HERE\n",
        "\n",
        "\n",
        "\n",
        "\n",
        "\n",
        "# Check whether the code is correct\n",
        "q8.check()\n"
      ],
      "id": "39ba042b"
    },
    {
      "cell_type": "markdown",
      "metadata": {
        "id": "519d94c6"
      },
      "source": [
        "<hr color=\"black\" />\n",
        "\n",
        "**Question 8.**\n",
        "\n",
        "<hr color=\"black\" />\n",
        "\n",
        "Each value in column ``genres`` of DataFrame ``shows_df`` is a *string*; if a show has many genres, their name is separated by a comma (,).\n",
        "\n",
        "👉 Execute the following cell to see an example."
      ],
      "id": "519d94c6"
    },
    {
      "cell_type": "code",
      "execution_count": null,
      "metadata": {
        "id": "2dcbdfe4"
      },
      "outputs": [],
      "source": [
        "[genre for genre in shows_df.genres.values if ',' in genre][:10]"
      ],
      "id": "2dcbdfe4"
    },
    {
      "cell_type": "markdown",
      "metadata": {
        "id": "3c1cbab1"
      },
      "source": [
        "**Write a code** to replace each string in column ``genres`` with a list.\n",
        "\n",
        "<hr color=\"black\" />\n",
        "\n",
        "**Example**. Instead of the value ``\"Animation,Comedy\"`` we'd like to have the value ``[\"Animation\", \"Comedy\"]``\n",
        "\n",
        "<hr color=\"black\" />\n",
        "\n",
        "👉 Your code might not work correctly on the first execution.\n",
        "It is better to work on a copy of the DataFrame ``shows_df``.\n",
        "\n",
        "Work **exclusively** on the DataFrame ``temp`` in the following cell."
      ],
      "id": "3c1cbab1"
    },
    {
      "cell_type": "code",
      "execution_count": null,
      "metadata": {
        "id": "aefbf0d6"
      },
      "outputs": [],
      "source": [
        "temp = shows_df.copy()\n",
        "\n",
        "# WRITE YOUR CODE HERE\n",
        "\n",
        "\n",
        "\n",
        "# Check whether the code is correct.\n",
        "q9.check()"
      ],
      "id": "aefbf0d6"
    },
    {
      "cell_type": "markdown",
      "metadata": {
        "id": "1fc7f2cc"
      },
      "source": [
        "If your code executed correctly, then we need to copy ``temp`` into ``shows_df``.\n",
        "\n",
        "👉 **Execute the following cell**"
      ],
      "id": "1fc7f2cc"
    },
    {
      "cell_type": "code",
      "execution_count": null,
      "metadata": {
        "id": "e7bb2fff"
      },
      "outputs": [],
      "source": [
        "shows_df = temp"
      ],
      "id": "e7bb2fff"
    },
    {
      "cell_type": "markdown",
      "source": [
        "<a name=\"Project\"></a>\n",
        "\n",
        "\n",
        "# Project with Google Sheets"
      ],
      "metadata": {
        "id": "k2MYQh2kJ8dG"
      },
      "id": "k2MYQh2kJ8dG"
    },
    {
      "cell_type": "markdown",
      "source": [
        "📢 Calling All Data Explorers! 📊\n",
        "\n",
        "🔍 Prepare for Your Master's Program with an Engaging Walmart Sales Dataset Project! 🛒\n",
        "\n",
        "Attention, aspiring data analysts! We have an exciting opportunity for you to dive deep into the world of data exploration and analysis while preparing for your bootcamp. Get ready to enhance your skills and gain valuable insights by working on a captivating project using the Walmart Sales Dataset.\n",
        "\n",
        "To embark on this summer project and set yourself up for success in your Master's program, follow these steps:\n",
        "\n",
        "1. Obtain the Walmart Sales Dataset: You can access the dataset through this [Google Sheets link](https://drive.google.com/drive/folders/11aXwR6ohDA9WTw-yW-gqZwm674JY-Gvf?usp=sharing). The dataset is a subset of the larger retail dataset available on [Kaggle](https://www.kaggle.com/datasets/manjeetsingh/retaildataset?select=stores+data-set.csv).\n",
        "\n",
        "2. Familiarize Yourself with the Dataset: Take time to understand the structure and contents of the dataset. See the \"information\" document to get some information. Check in particular the types of every column (date, number, boolean...).\n",
        " **Do not** download data from Kaggle, it will be too heavy for Google Sheets to handle.\n",
        "\n",
        "3. Clean your data: Remove negative values, verify the holidays are correctly assigned, make sure you have data for every week and every store...\n",
        "\n",
        "4. Define a Research Question or Objective: Determine the specific area of focus for your project. Consider questions related to **sales** trends, **store** performance,  or the impact of various  **features** on sales.\n",
        "\n",
        "4. Plan Your Analysis Approach: Outline the methodologies and techniques you will use to analyze the dataset.\n",
        "\n",
        "5. Perform Data Analysis:\n",
        "\n",
        "> 1.   Study departments: how do the sales of each department evolve over time ? Do we see any seasonality ?\n",
        "> 2.   Compare store types: which types of stores see the most sales ? Does this change over time ?\n",
        "> 3.   Study the impact of features: can you find any correlation between some features and the weekly sales ?\n",
        "> 4.   Holidays: Do holidays have an impact on sales ? For which departments, for which stores ? What about Christmas ?\n",
        "> 5.   Explore any questions of interest.\n",
        "\n",
        "7. Interpret and Communicate Your Findings: Produce meaningful charts to convey your findings and to communicate them effectively to others.\n",
        "\n",
        "7. Reflect and Learn: Take time to reflect on your project, including the challenges you faced, the lessons you learned, and the opportunities for improvement. Embrace this project as a learning experience that will enhance your skills and prepare you for your Master's program.\n",
        "\n",
        "By leveraging these Google Sheets functionalities, you can effectively analyze the Walmart Sales Dataset and derive meaningful insights to address your research question or objective.\n",
        "\n",
        "Get ready to impress your professors and colleagues with your analytical prowess! 🌞📊\n",
        "\n",
        "Wishing you an insightful and rewarding summer project as you prepare for your Master's program! 🚀"
      ],
      "metadata": {
        "id": "ONsZmRuAKBYO"
      },
      "id": "ONsZmRuAKBYO"
    },
    {
      "cell_type": "markdown",
      "source": [
        "<a name=\"Task\"></a>\n",
        "\n",
        "<hr color=\"black\" />\n",
        "\n",
        "**Your task**\n",
        "\n",
        "<hr color=\"black\" />\n",
        "\n",
        "Two deliverables:\n",
        "1. Several insightful charts added to the Google Sheets document.\n",
        "\n",
        "2. A deck of 10 slides for a 10 minute presentation of your results -- Note that we only expect you to produce one deck, based either on your Excel or your Google Sheets analysis"
      ],
      "metadata": {
        "id": "rAlcAfvTk7Bq"
      },
      "id": "rAlcAfvTk7Bq"
    },
    {
      "cell_type": "markdown",
      "id": "3ae33167",
      "metadata": {
        "id": "3ae33167"
      },
      "source": [
        "<a name=\"Practice\"></a>\n",
        "\n",
        "# Practice"
      ]
    },
    {
      "cell_type": "markdown",
      "metadata": {
        "id": "45786162"
      },
      "source": [
        "### Websites to practice python\n"
      ],
      "id": "45786162"
    },
    {
      "cell_type": "markdown",
      "source": [
        "\n",
        "For a wide range of exercises, check out these websites that offer almost unlimited practice.\n",
        "They delve into topics we haven't covered yet, and trust me, they are fascinating. Someday, you might come across these topics, and oh boy, you'll be thrilled to already have a solid understanding of them!\n",
        "\n",
        "But let's not forget, the essential topics to focus on are:\n",
        "- Basic data types\n",
        "- Logic & Conditions\n",
        "- Loops\n",
        "- Functions\n",
        "- Strings, Sets\n",
        "- Lists & Arrays\n",
        "- Sets & Dictionaries\n",
        "\n",
        "Here are a couple of more advanced topics that are also :\n",
        "-\n",
        "\n",
        "They will appear in every algorithms you will ever encounter\n",
        "\n",
        "1. https://www.hackerrank.com/domains/python?filters%5Bsubdomains%5D%5B%5D=py-introduction\n",
        "2. https://www.codingame.com/training\n",
        "\n",
        "\n",
        "My personal favorite is https://adventofcode.com. Get ready, so that we can compete on its next edition, in December 2023 ;-)\n",
        "\n",
        "Be sure to explore previous years as well: they go all the way back to https://adventofcode.com/2015 !"
      ],
      "metadata": {
        "id": "Cn2KbWfFY_2r"
      },
      "id": "Cn2KbWfFY_2r"
    },
    {
      "cell_type": "markdown",
      "source": [
        "### [ExtraMile] Project"
      ],
      "metadata": {
        "id": "C7N7IgTkb9vi"
      },
      "id": "C7N7IgTkb9vi"
    },
    {
      "cell_type": "markdown",
      "metadata": {
        "id": "3cc1370e"
      },
      "source": [
        "#### Exercise 1 -- Python Programming\n"
      ],
      "id": "3cc1370e"
    },
    {
      "cell_type": "markdown",
      "source": [
        "\n",
        "You have a collection of boxes, each filled with a specific amount of money. Your goal is to arrange the boxes in a left-to-right order, from the box with the highest amount of money to the box with the lowest amount of money. To achieve this, you will employ the following process:\n",
        "\n",
        "1. Start from the leftmost box and compare its money value with the box next to it.\n",
        "2. If the ordering rule is violated (i.e., the box on the right has more money than the one on the left), move the wrongly placed box to the left until it reaches its correct position.\n",
        "3. Repeat steps 1 and 2, starting from the left, until all the boxes are correctly ordered.\n",
        "\n",
        "<hr color=\"black\" />\n",
        "\n",
        "**Your task**\n",
        "\n",
        "<hr color=\"black\" />\n",
        "\n",
        "\n",
        "Determine the total number of boxes that need to be moved during this process.\n",
        "\n",
        "Write a function ``count_moved_boxes`` that **takes in**:\n",
        "\n",
        "* a *list* ``l`` of integer numbers;\n",
        "\n",
        "The function **returns**:\n",
        "\n",
        "* the number of times an element of the list is **lesser** than the previous element in the list\n",
        "\n",
        "<br>\n",
        "\n",
        "<hr color=\"black\" />\n",
        "\n",
        "**Examples.**\n",
        "\n",
        "<hr color=\"black\" />\n",
        "\n",
        "* ``count_moved_boxes([1, 5, 9, 4, 10, 6, 2])`` must return 3 (`4` is less than `9`; `6` is less than `10` and `2` is less than `6`).\n",
        "\n",
        "* ``count_moved_boxes([1, 2, 2, 3])`` must return 0.\n",
        "\n",
        "* ``count_moved_boxes([])`` must return 0.\n",
        "\n",
        "* ``count_moved_boxes([3, 2, 1, 1, 0])`` must return 3."
      ],
      "metadata": {
        "id": "Zd2ed9xmfuJX"
      },
      "id": "Zd2ed9xmfuJX"
    },
    {
      "cell_type": "code",
      "source": [
        "# WRITE YOUR CODE HERE\n",
        "def count_moved_boxes(l):\n",
        "    return None\n",
        "\n",
        "# Check whether the code is correct\n",
        "q10.check()"
      ],
      "metadata": {
        "id": "9RxFINcBdDfi"
      },
      "id": "9RxFINcBdDfi",
      "execution_count": null,
      "outputs": []
    },
    {
      "cell_type": "markdown",
      "metadata": {
        "id": "11aef091"
      },
      "source": [
        "#### Exercise 2 -- Python Programming\n"
      ],
      "id": "11aef091"
    },
    {
      "cell_type": "markdown",
      "source": [
        "\n",
        "\n",
        "Albert, an avid traveler, has purchased a one-way ticket for his journey involving multiple train transfers within France. However, due to an unfortunate mishap, Albert accidentally mixed up the order of the train tickets, resulting in a perplexing situation. Without the correct sequence of trains, Albert is unable to determine the precise itinerary for his trip.\n",
        "\n",
        "To complicate matters further, Albert knows that having repeated transfers at any city is impractical and should be avoided. Therefore, he needs assistance in rearranging the jumbled tickets to establish the correct order of trains.\n",
        "\n",
        "Your task is to develop a solution that helps Albert reconstruct the correct itinerary for his journey. By successfully organizing the train tickets, you will enable Albert to navigate through the transfers efficiently and reach his final destination without unnecessary detours or complications.\n",
        "\n",
        "Given a set of train tickets with their origin and destination cities, in an initially incorrect order, your solution should rearrange the tickets to form the correct sequential order of trains. This correct order should ensure that Albert can travel smoothly without encountering repeated transfers at any city.\n",
        "\n",
        "<hr color=\"black\" />\n",
        "\n",
        "**Your task**\n",
        "\n",
        "<hr color=\"black\" />\n",
        "\n",
        "Write a function ``get_order`` that **takes in**:\n",
        "\n",
        "* `tickets`, a list of tuples containing the list of tickets Albert purchased;\n",
        "\n",
        "The function **returns**:\n",
        "\n",
        "* a list of tuples correctly ordered, so that the second element of every tuple is equal to the first element of the following tuple in the list.\n",
        "\n",
        "<br>\n",
        "\n",
        "<hr color=\"black\" />\n",
        "\n",
        "**Examples.**\n",
        "\n",
        "<hr color=\"black\" />\n",
        "\n",
        "* ``t1 = (\"Paris\", \"Nice\")``\n",
        "\n",
        "* ``t2 = (\"Grenoble\", \"Lyon\")``\n",
        "\n",
        "* ``t3 = (\"Marseille\", \"Paris\")``\n",
        "\n",
        "* ``t4 = (\"Lyon\", \"Marseille\")``\n",
        "\n",
        "We have the following results:\n",
        "\n",
        "* ``get_order([t1, t2, t3, t4])`` returns the list `[t2, t4, t3, t1]`. Write the list explicitly to see why this is the case !"
      ],
      "metadata": {
        "id": "2Qc7P1bzfydO"
      },
      "id": "2Qc7P1bzfydO"
    },
    {
      "cell_type": "code",
      "source": [
        "# WRITE YOUR CODE HERE\n",
        "def get_order(tickets):\n",
        "    return None\n",
        "\n",
        "\n",
        "q11.check()"
      ],
      "metadata": {
        "id": "9XgvfPtAfZiA"
      },
      "id": "9XgvfPtAfZiA",
      "execution_count": null,
      "outputs": []
    },
    {
      "cell_type": "markdown",
      "source": [
        "#### Exercise 3 -- Programming with pandas & Walmart data\n"
      ],
      "metadata": {
        "id": "J0kDD-5vf3-I"
      },
      "id": "J0kDD-5vf3-I"
    },
    {
      "cell_type": "markdown",
      "metadata": {
        "id": "6e1f73e8"
      },
      "source": [
        "Download data from this kaggle page to work on this exercise.\n",
        "\n",
        "https://www.kaggle.com/datasets/manjeetsingh/retaildataset"
      ],
      "id": "6e1f73e8"
    },
    {
      "cell_type": "markdown",
      "metadata": {
        "id": "370c403a"
      },
      "source": [
        "Unleash the Power of Retail Data Analytics with Walmart's Dataset! Dive into the world of retail intelligence as you explore Walmart's dataset and extract valuable insights that can transform the industry. With a wide range of features including store information, historical sales data, and holiday weeks, this dataset offers an exciting opportunity to uncover hidden patterns, optimize strategies, and drive business growth. Get ready to harness the power of data and revolutionize the world of retail with the Retail Data Analytics dataset from Walmart!\n",
        "\n",
        "By the end of the bootcamp, you will be able to tackle the case described on Kaggle:\n",
        "\n",
        "1. Predict the department-wide sales for each store for the following year\n",
        "2. Model the effects of markdowns on holiday weeks\n",
        "3. Provide recommended actions based on the insights drawn, with prioritization placed on largest business impact\n",
        "\n",
        "For now, we will focuse on more simple exploratory data analysis."
      ],
      "id": "370c403a"
    },
    {
      "cell_type": "markdown",
      "metadata": {
        "id": "c9aeb17a"
      },
      "source": [
        "<h3>For now</h3>\n",
        "\n",
        "Your task is to understand the data provided on the case, and use the information about sales and features to:\n",
        "\n",
        "1. Create a dashboard to communicate the sales.\n",
        "2. Study the impact of factors independent from Walmart on sales for various departments and types of stores: the weather, the fuel price, and the economical conjoncture.\n",
        "\n",
        "Two deliverables:\n",
        "1. Python notebook\n",
        "2. A deck of 10 slides for a 10 minute presentation of your results -- Note that we only expect you to produce one deck, based either on your Excel or your Google Sheets analysis"
      ],
      "id": "c9aeb17a"
    },
    {
      "cell_type": "code",
      "source": [],
      "metadata": {
        "id": "2sZUg3Lslprt"
      },
      "id": "2sZUg3Lslprt",
      "execution_count": null,
      "outputs": []
    }
  ],
  "metadata": {
    "kernelspec": {
      "display_name": "Python 3 (ipykernel)",
      "language": "python",
      "name": "python3"
    },
    "language_info": {
      "codemirror_mode": {
        "name": "ipython",
        "version": 3
      },
      "file_extension": ".py",
      "mimetype": "text/x-python",
      "name": "python",
      "nbconvert_exporter": "python",
      "pygments_lexer": "ipython3",
      "version": "3.11.3"
    },
    "colab": {
      "provenance": [],
      "collapsed_sections": [
        "7CUgNOIjZxCb",
        "11aef091",
        "J0kDD-5vf3-I"
      ],
      "include_colab_link": true
    }
  },
  "nbformat": 4,
  "nbformat_minor": 5
}